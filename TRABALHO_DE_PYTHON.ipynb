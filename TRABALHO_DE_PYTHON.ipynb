{
  "nbformat": 4,
  "nbformat_minor": 0,
  "metadata": {
    "colab": {
      "provenance": [],
      "collapsed_sections": [],
      "authorship_tag": "ABX9TyMxQa3hEqwscQ5YPR9eHHya",
      "include_colab_link": true
    },
    "kernelspec": {
      "name": "python3",
      "display_name": "Python 3"
    },
    "language_info": {
      "name": "python"
    }
  },
  "cells": [
    {
      "cell_type": "markdown",
      "metadata": {
        "id": "view-in-github",
        "colab_type": "text"
      },
      "source": [
        "<a href=\"https://colab.research.google.com/github/VENR97/Sliding-Sign-In-Sign-Up-Form/blob/master/TRABALHO_DE_PYTHON.ipynb\" target=\"_parent\"><img src=\"https://colab.research.google.com/assets/colab-badge.svg\" alt=\"Open In Colab\"/></a>"
      ]
    },
    {
      "cell_type": "markdown",
      "source": [
        "1.\tFaça um Programa que leia um vetor de 5 números inteiros e mostre-os.\n"
      ],
      "metadata": {
        "id": "OPpmMtpWpt0z"
      }
    },
    {
      "cell_type": "code",
      "source": [
        "vector = []\n",
        "\n",
        "for i in range(5): \n",
        "    numero = float(input('Digite o numero '))\n",
        "    vector.append(numero)\n",
        "    vector.reverse()\n",
        "print(vector)"
      ],
      "metadata": {
        "colab": {
          "base_uri": "https://localhost:8080/"
        },
        "id": "usyl4ke4pxq7",
        "outputId": "dd497533-2257-4e5e-dd10-6cbbe42b0b88"
      },
      "execution_count": 1,
      "outputs": [
        {
          "output_type": "stream",
          "name": "stdout",
          "text": [
            "Digite o numero 10\n",
            "Digite o numero 25\n",
            "Digite o numero 23\n",
            "Digite o numero 8\n",
            "Digite o numero 10\n",
            "[10.0, 23.0, 10.0, 25.0, 8.0]\n"
          ]
        }
      ]
    },
    {
      "cell_type": "markdown",
      "source": [
        "2.\tFaça um Programa que leia um vetor de 10 números reais e mostre-os na ordem inversa.\n",
        "\n"
      ],
      "metadata": {
        "id": "oWQgwKGgqIsK"
      }
    },
    {
      "cell_type": "code",
      "source": [
        "listaNumerosReais = []\n",
        "print ('Informe os 10 numeros reais')\n",
        "for i in range(10):\n",
        "    listaNumerosReais.append(float(input('Numero '+ str(i+1) + ':\\n')))\n",
        "    listaNumerosReais.reverse()\n",
        "print (listaNumerosReais)"
      ],
      "metadata": {
        "colab": {
          "base_uri": "https://localhost:8080/"
        },
        "id": "kVIAtKrXqM4z",
        "outputId": "d69ecfea-ddb5-4cce-dc0c-31d0da13ef9c"
      },
      "execution_count": 2,
      "outputs": [
        {
          "output_type": "stream",
          "name": "stdout",
          "text": [
            "Informe os 10 numeros reais\n",
            "Numero 1:\n",
            "10\n",
            "Numero 2:\n",
            "20\n",
            "Numero 3:\n",
            "30\n",
            "Numero 4:\n",
            "40\n",
            "Numero 5:\n",
            "50\n",
            "Numero 6:\n",
            "60\n",
            "Numero 7:\n",
            "70\n",
            "Numero 8:\n",
            "80\n",
            "Numero 9:\n",
            "90\n",
            "Numero 10:\n",
            "100\n",
            "[100.0, 80.0, 60.0, 40.0, 20.0, 10.0, 30.0, 50.0, 70.0, 90.0]\n"
          ]
        }
      ]
    },
    {
      "cell_type": "markdown",
      "source": [
        "3.\tFaça um Programa que leia 4 notas, mostre as notas e a média na tela."
      ],
      "metadata": {
        "id": "eJNTXk2gqcyh"
      }
    },
    {
      "cell_type": "code",
      "source": [
        "listaNotas = []\n",
        "media = 0\n",
        "print ('Informe as 4 notas')\n",
        "for i in range(4):\n",
        "  listaNotas.append(float(input('Nota '+ str(i+1) + ':\\n')))\n",
        "media += listaNotas[i]\n",
        "media = media/4\n",
        "print(listaNotas) \n",
        "print(media)"
      ],
      "metadata": {
        "colab": {
          "base_uri": "https://localhost:8080/"
        },
        "id": "XJEpJZRiqe9q",
        "outputId": "bd8c1bc4-dbd9-4c81-f42d-8689ff5e816b"
      },
      "execution_count": 3,
      "outputs": [
        {
          "output_type": "stream",
          "name": "stdout",
          "text": [
            "Informe as 4 notas\n",
            "Nota 1:\n",
            "5\n",
            "Nota 2:\n",
            "4\n",
            "Nota 3:\n",
            "6\n",
            "Nota 4:\n",
            "8\n",
            "[5.0, 4.0, 6.0, 8.0]\n",
            "2.0\n"
          ]
        }
      ]
    },
    {
      "cell_type": "markdown",
      "source": [
        "4.\tFaça um Programa que leia um vetor de 10 caracteres, e diga quantas consoantes foram lidas. Imprima as consoantes."
      ],
      "metadata": {
        "id": "34Sf17P7qqUq"
      }
    },
    {
      "cell_type": "code",
      "source": [
        "listaChar = []\n",
        "consoantes = 0\n",
        "print ('Informe os caracters')\n",
        "for i in range(10):\n",
        "    listaChar.append((input('Caracter  '+ str(i+1) + ':\\n')))\n",
        "char = listaChar[i]\n",
        "if(char not in ('a','e','i','o','u')):\n",
        "    consoantes += 1\n",
        "print(consoantes)"
      ],
      "metadata": {
        "colab": {
          "base_uri": "https://localhost:8080/"
        },
        "id": "oym_CCo-q6Vw",
        "outputId": "8d369bcb-d6c2-4914-9513-8b2ef970a1c1"
      },
      "execution_count": 7,
      "outputs": [
        {
          "output_type": "stream",
          "name": "stdout",
          "text": [
            "Informe os caracters\n",
            "Caracter  1:\n",
            "a\n",
            "Caracter  2:\n",
            "d\n",
            "Caracter  3:\n",
            "f\n",
            "Caracter  4:\n",
            "g\n",
            "Caracter  5:\n",
            "h\n",
            "Caracter  6:\n",
            "j\n",
            "Caracter  7:\n",
            "k\n",
            "Caracter  8:\n",
            "l\n",
            "Caracter  9:\n",
            "l\n",
            "Caracter  10:\n",
            "e\n",
            "0\n"
          ]
        }
      ]
    },
    {
      "cell_type": "markdown",
      "source": [
        "5.\tFaça um Programa que leia 20 números inteiros e armazene-os num vetor. Armazene os números pares no vetor PAR e os números IMPARES no vetor impar. Imprima os três vetores."
      ],
      "metadata": {
        "id": "RBg7qGAOrCGx"
      }
    },
    {
      "cell_type": "code",
      "source": [
        "listaPar = []\n",
        "listaImpar = []\n",
        "listaNumeros = []\n",
        "numero = 0\n",
        "print('Informe os numeros:')\n",
        "for i in range(20):\n",
        "    listaNumeros.append((int(input('Numero: ' + str(i+1) + ':\\n'))))\n",
        "numero = listaNumeros[i]\n",
        "print (numero)\n",
        "if(numero%2 == 0):\n",
        "    listaPar.append(numero)\n",
        "else:\n",
        "    listaImpar.append(numero)\n",
        "\n",
        "print(listaNumeros)\n",
        "print(listaPar)\n",
        "print(listaImpar)"
      ],
      "metadata": {
        "colab": {
          "base_uri": "https://localhost:8080/"
        },
        "id": "0vJ3nVxXrEJQ",
        "outputId": "afee99b1-8e05-40a9-ee6d-237c36de11c2"
      },
      "execution_count": 9,
      "outputs": [
        {
          "output_type": "stream",
          "name": "stdout",
          "text": [
            "Informe os numeros:\n",
            "Numero: 1:\n",
            "10\n",
            "Numero: 2:\n",
            "12\n",
            "Numero: 3:\n",
            "45\n",
            "Numero: 4:\n",
            "45\n",
            "Numero: 5:\n",
            "6\n",
            "Numero: 6:\n",
            "6\n",
            "Numero: 7:\n",
            "4\n",
            "Numero: 8:\n",
            "58\n",
            "Numero: 9:\n",
            "78\n",
            "Numero: 10:\n",
            "95\n",
            "Numero: 11:\n",
            "46\n",
            "Numero: 12:\n",
            "78\n",
            "Numero: 13:\n",
            "45\n",
            "Numero: 14:\n",
            "96\n",
            "Numero: 15:\n",
            "82\n",
            "Numero: 16:\n",
            "100\n",
            "Numero: 17:\n",
            "200\n",
            "Numero: 18:\n",
            "54\n",
            "Numero: 19:\n",
            "96\n",
            "Numero: 20:\n",
            "56\n",
            "56\n",
            "[10, 12, 45, 45, 6, 6, 4, 58, 78, 95, 46, 78, 45, 96, 82, 100, 200, 54, 96, 56]\n",
            "[56]\n",
            "[]\n"
          ]
        }
      ]
    },
    {
      "cell_type": "markdown",
      "source": [
        "6.\tFaça um Programa que peça as quatro notas de 10 alunos, calcule e armazene num vetor a média de cada aluno, imprima o número de alunos com média maior ou igual a 7.0."
      ],
      "metadata": {
        "id": "gM-4wJkurpR1"
      }
    },
    {
      "cell_type": "code",
      "source": [
        "medias_alunos = []\n",
        "alunos_acima_media = 0\n",
        "\n",
        "for aluno in range(10):\n",
        "    soma_das_notas = 0\n",
        "    \n",
        "    for nota in range(4):\n",
        "        print(\"Digite a \", nota+1, \"ª nota do \", aluno+1, \"º aluno\", sep=\"\")\n",
        "        soma_das_notas += float(input())\n",
        "    \n",
        "    medias_alunos.append(soma_das_notas/4)\n",
        "    \n",
        "    if medias_alunos[aluno] >= 7.0:\n",
        "        alunos_acima_media += 1\n",
        "        \n",
        "print(\"Médias dos alunos:\", medias_alunos)\n",
        "print(\"Número de alunos acima da média:\", alunos_acima_media)"
      ],
      "metadata": {
        "colab": {
          "base_uri": "https://localhost:8080/"
        },
        "id": "nAKPewvRrsW1",
        "outputId": "b48d626e-6c43-46fa-f00d-fa866333ee69"
      },
      "execution_count": null,
      "outputs": [
        {
          "output_type": "stream",
          "name": "stdout",
          "text": [
            "Digite a 1ª nota do 1º aluno\n"
          ]
        }
      ]
    },
    {
      "cell_type": "markdown",
      "source": [
        "7.\tFaça um Programa que leia um vetor de 5 números inteiros, mostre a soma, a multiplicação e os números."
      ],
      "metadata": {
        "id": "O25e8DVUsPYV"
      }
    },
    {
      "cell_type": "code",
      "source": [
        "vetor = [2, 4, 6, 8, 10]\n",
        "mult = 1                                                                           \n",
        "\n",
        "for v in vetor:\n",
        "  mult *= v\n",
        "\n",
        "print('\\nNúmeros digitados: ')\n",
        "print(vetor)\n",
        "\n",
        "print('\\nSoma:')\n",
        "print(sum(vetor))\n",
        "\n",
        "print('\\nMultiplicação: ')\n",
        "print(mult)"
      ],
      "metadata": {
        "id": "UUS9KyY2sUUE"
      },
      "execution_count": null,
      "outputs": []
    },
    {
      "cell_type": "markdown",
      "source": [
        "8.\tFaça um Programa que peça a idade e a altura de 5 pessoas, armazene cada informação no seu respectivo vetor. Imprima a idade e a altura na ordem inversa a ordem lida."
      ],
      "metadata": {
        "id": "YEoy5HvfsYlc"
      }
    },
    {
      "cell_type": "code",
      "source": [
        "idades = []\n",
        "alturas = []\n",
        "for i in range(1, 6):\n",
        "    print('%dº Pessoa' %i)\n",
        "    idade = int(input('Digite a idade: '))\n",
        "    altura = float(input('Digite a altura: '))\n",
        "    idades.append(idade)\n",
        "    alturas.append(altura)\n",
        "\n",
        "print('Ordem inversa')\n",
        "print('Alturas')\n",
        "print(alturas[::-1])\n",
        "print('Idades')\n",
        "print(idades[::-1])\n",
        "\n",
        "print('Ordem lida')\n",
        "print('Alturas')\n",
        "print(alturas)\n",
        "\n",
        "print('Idades')\n",
        "print(idades)"
      ],
      "metadata": {
        "id": "PHD0fxDssa3V"
      },
      "execution_count": null,
      "outputs": []
    },
    {
      "cell_type": "markdown",
      "source": [
        "9.\tFaça um Programa que leia um vetor A com 10 números inteiros, calcule e mostre a soma dos quadrados dos elementos do vetor."
      ],
      "metadata": {
        "id": "w9fL5hXislIT"
      }
    },
    {
      "cell_type": "code",
      "source": [
        "soma_dos_quadrados = 0\n",
        "for i in range(10):\n",
        "    soma_dos_quadrados += int(input(f\"Digite o {i+1}º numero inteiro: \")) ** 2\n",
        "print(f\"A soma dos quadrados dos numeros digitados é {soma_dos_quadrados}\")"
      ],
      "metadata": {
        "id": "w4kfXWrusnU0"
      },
      "execution_count": null,
      "outputs": []
    },
    {
      "cell_type": "markdown",
      "source": [
        "10.\tFaça um Programa que leia dois vetores com 10 elementos cada. Gere um terceiro vetor de 20 elementos, cujos valores deverão ser compostos pelos elementos intercalados dos dois outros vetores."
      ],
      "metadata": {
        "id": "DecVSf9Dsqj7"
      }
    },
    {
      "cell_type": "code",
      "source": [
        "primeiro_vetor = []\n",
        "segundo_vetor = []\n",
        "terceiro_vetor = []\n",
        "\n",
        "for posicao in range(10):\n",
        "    primeiro_vetor.append(input(\"Digite o elemento da \"+str(posicao+1)+\"ª posição do primeiro vetor: \"))\n",
        "\n",
        "for posicao in range(10):\n",
        "    segundo_vetor.append(input(\"Digite o elemento da \"+str(posicao+1)+\"ª posição do segundo vetor: \"))\n",
        "    \n",
        "for indice in range(10):\n",
        "    terceiro_vetor.append(primeiro_vetor[indice])\n",
        "    terceiro_vetor.append(segundo_vetor[indice])\n",
        "    \n",
        "print(terceiro_vetor)"
      ],
      "metadata": {
        "id": "Ng7xNQQGss16"
      },
      "execution_count": null,
      "outputs": []
    },
    {
      "cell_type": "markdown",
      "source": [
        "11.\tAltere o programa anterior, intercalando 3 vetores de 10 elementos cada."
      ],
      "metadata": {
        "id": "iXNfNglxsxeK"
      }
    },
    {
      "cell_type": "code",
      "source": [
        "ELEMENTOS = 10\n",
        "vetor1 = []\n",
        "vetor2 = []\n",
        "vetor3 = []\n",
        "vetor4 = []\n",
        "for i in range(ELEMENTOS):\n",
        "    vetor1.append(\n",
        "        int(input(f\"Entre com o {i+1}º número inteiro para o vetor 1: \"))\n",
        "    )\n",
        "for i in range(ELEMENTOS):\n",
        "    vetor2.append(\n",
        "        int(input(f\"Entre com o {i+1}º número inteiro para o vetor 2: \"))\n",
        "    )\n",
        "for i in range(ELEMENTOS):\n",
        "    vetor3.append(\n",
        "        int(input(f\"Entre com o {i+1}º número inteiro para o vetor 3: \"))\n",
        "    )\n",
        "for i in range(ELEMENTOS):\n",
        "    vetor4.append(vetor1[i])\n",
        "    vetor4.append(vetor2[i])\n",
        "    vetor4.append(vetor3[i])\n",
        "print(\"O vetor com os elementos intercalados dos vetores 1, 2 e 3 é: \")\n",
        "for i in range(ELEMENTOS * 3):\n",
        "    print(vetor4[i], end=\" \")"
      ],
      "metadata": {
        "id": "G22GxB_vs0ID"
      },
      "execution_count": null,
      "outputs": []
    },
    {
      "cell_type": "markdown",
      "source": [
        "12.\tForam anotadas as idades e alturas de 30 alunos. Faça um Programa que determine quantos alunos com mais de 13 anos possuem altura inferior à média de altura desses alunos."
      ],
      "metadata": {
        "id": "f84FWd7ys3na"
      }
    },
    {
      "cell_type": "code",
      "source": [
        "ALUNOS = 30\n",
        "idades = []\n",
        "alturas = []\n",
        "media_de_altura = 0\n",
        "abaixo_da_media = 0\n",
        "\n",
        "for i in range(ALUNOS):\n",
        "    idades.append(int(input(f\"Digite a idade do aluno {i+1}: \")))\n",
        "    altura = int(input(f\"Digite a altura em cm do aluno {i+1}: \"))\n",
        "    alturas.append(altura)\n",
        "    media_de_altura += altura\n",
        "\n",
        "media_de_altura /= ALUNOS\n",
        "\n",
        "for i in range(ALUNOS):\n",
        "    if idades[i] > 13:\n",
        "        if alturas[i] < media_de_altura:\n",
        "            abaixo_da_media += 1\n",
        "\n",
        "print(\n",
        "    f\"{abaixo_da_media} alunos com mais de 13 anos têm altura abaixo da média\"\n",
        ")"
      ],
      "metadata": {
        "id": "NZjYhU5Ds6CE"
      },
      "execution_count": null,
      "outputs": []
    },
    {
      "cell_type": "markdown",
      "source": [
        "13.\tFaça um programa que receba a temperatura média de cada mês do ano e armazene-as em uma lista. Após isto, calcule a média anual das temperaturas e mostre todas as temperaturas acima da média anual, e em que mês elas ocorreram (mostrar o mês por extenso: 1 – Janeiro, 2 – Fevereiro, . . . )."
      ],
      "metadata": {
        "id": "zOeF1OECs_Wp"
      }
    },
    {
      "cell_type": "code",
      "source": [
        "meses = [\n",
        "    \"janeiro\",\n",
        "    \"fevereiro\",\n",
        "    \"março\",\n",
        "    \"abril\",\n",
        "    \"maio\",\n",
        "    \"junho\",\n",
        "    \"julho\",\n",
        "    \"agosto\",\n",
        "    \"setembro\",\n",
        "    \"outubro\",\n",
        "    \"novembro\",\n",
        "    \"dezembro\",\n",
        "]\n",
        "temperaturas = []\n",
        "for i in range(12):\n",
        "    temperaturas.append(\n",
        "        float(input(f\"Digite a temperatura de {meses[i]} em ºC: \"))\n",
        "    )\n",
        "\n",
        "media = sum(temperaturas) / 12\n",
        "print(f\"\\nA média das temperaturas foi {media:.2f}ºC\")\n",
        "print(\"Meses com temperaturas acima da média: \")\n",
        "for i in range(12):\n",
        "    if temperaturas[i] > media:\n",
        "        print(f\"{i+1} - {meses[i].capitalize()} com {temperaturas[i]:.2f}ºC\")"
      ],
      "metadata": {
        "id": "Hjv5jjO9tCBy"
      },
      "execution_count": null,
      "outputs": []
    },
    {
      "cell_type": "markdown",
      "source": [
        "14.\tUtilizando listas faça um programa que faça 5 perguntas para uma pessoa sobre um crime. As perguntas são:\"Telefonou para a vítima?\"\"Esteve no local do crime?\"\"Mora perto da vítima?\"\"Devia para a vítima?\"\"Já trabalhou com a vítima?\" O programa deve no final emitir uma classificação sobre a participação da pessoa no crime. Se a pessoa responder positivamente a 2 questões ela deve ser classificada como \"Suspeita\", entre 3 e 4 como \"Cúmplice\" e 5 como \"Assassino\". Caso contrário, ele será classificado como \"Inocente\"."
      ],
      "metadata": {
        "id": "cvlyErXRtNBU"
      }
    },
    {
      "cell_type": "code",
      "source": [
        "res = []\n",
        "res.append(input(\"Telefonou para a vítima? 1/Sim ou 0/Não: \"))\n",
        "res.append(input(\"Esteve no local do crime? 1/Sim ou 0/Não: \"))\n",
        "res.append(input(\"Mora perto da vítima? 1/Sim ou 0/Não: \"))\n",
        "res.append(input(\"Devia para a vítima? 1/Sim ou 0/Não: \"))\n",
        "res.append(input(\"Já trabalhou com a vítima? 1/Sim ou 0/Não: \"))\n",
        "soma_respostas = 0\n",
        "for i in res: # soma o número de respostas\n",
        "    soma_respostas += int(i)\n",
        "if (soma_respostas < 2):\n",
        " print(\"\\nInocente\")\n",
        "elif (soma_respostas == 2):\n",
        " print(\"\\nSuspeita\")\n",
        "elif (3 <= soma_respostas <= 4):\n",
        " print(\"\\nCúmplice\")\n",
        "elif (soma_respostas == 5):\n",
        " print(\"\\nAssassino\")\n",
        "lista_perguntas = [\"Telefonou para a vítima? 1/Sim ou 0/Não: \",\n",
        "\"Esteve no local do crime? 1/Sim ou 0/Não: \",\n",
        "\"Mora perto da vítima? 1/Sim ou 0/Não: \",\n",
        "\"Devia para a vítima? 1/Sim ou 0/Não: \",\n",
        "\"Já trabalhou com a vítima? 1/Sim ou 0/Não: \"]\n",
        "res = []\n",
        "soma_respostas = 0\n",
        "for i in range(len(lista_perguntas)):\n",
        "    print(lista_perguntas[i])\n",
        "res.append(input()) # adiciona as respostas na lista res\n",
        "soma_respostas += int(res[i]) # soma o número de respostas\n",
        "status = [\"Inocente\",\"Suspeita\",\"Cúmplice\",\"Cúmplice\",\"Assassino\"]\n",
        "if soma_respostas < 2:\n",
        "    print(status[0])\n",
        "else:\n",
        "    print(status[soma_respostas-1])\n",
        "# Essa solução não utiliza listas\n",
        "res1 = int(input(\"Telefonou para a vítima? 1/Sim ou 0/Não: \"))\n",
        "res2 = int(input(\"Esteve no local do crime? 1/Sim ou 0/Não: \"))\n",
        "res3 = int(input(\"Mora perto da vítima? 1/Sim ou 0/Não: \"))\n",
        "res4 = int(input(\"Devia para a vítima? 1/Sim ou 0/Não: \"))\n",
        "res5 = int(input(\"Já trabalhou com a vítima? 1/Sim ou 0/Não: \"))\n",
        "# soma o número de respostas\n",
        "soma_respostas = res1 + res2 + res3 + res4 + res5\n",
        "if (soma_respostas < 2):\n",
        " print(\"\\nInocente\")\n",
        "elif (soma_respostas == 2):\n",
        " print(\"\\nSuspeita\")\n",
        "elif (3 <= soma_respostas <= 4):\n",
        " print(\"\\nCúmplice\")\n",
        "elif (soma_respostas == 5):\n",
        " print(\"\\nAssassino\")"
      ],
      "metadata": {
        "id": "JjmajNoKtPR5"
      },
      "execution_count": null,
      "outputs": []
    },
    {
      "cell_type": "markdown",
      "source": [
        "15.\tFaça um programa que leia um número indeterminado de valores, correspondentes a notas, encerrando a entrada de dados quando for informado um valor igual a -1 (que não deve ser armazenado). Após esta entrada de dados, faça:Mostre a quantidade de valores que foram lidos;Exiba todos os valores na ordem em que foram informados, um ao lado do outro;Exiba todos os valores na ordem inversa à que foram informados, um abaixo do outro;Calcule e mostre a soma dos valores;Calcule e mostre a média dos valores;Calcule e mostre a quantidade de valores acima da média calculada;Calcule e mostre a quantidade de valores abaixo de sete;Encerre o programa com uma mensagem"
      ],
      "metadata": {
        "id": "KuCxCUQRtXTl"
      }
    },
    {
      "cell_type": "code",
      "source": [
        "nota_lida = 0\n",
        "notas_lidas = []\n",
        "\n",
        "while nota_lida != -1:\n",
        "    nota_lida = float(input(\"Digite a nota ou -1 para encerrar: \"))\n",
        "    if nota_lida != -1:\n",
        "        notas_lidas.append(nota_lida)\n",
        "        \n",
        "# Mostre a quantidade de valores que foram lidos;\n",
        "print(\"A. Quantidade de valores que foram lidos:\", len(notas_lidas))\n",
        "\n",
        "# Exiba todos os valores na ordem em que foram informados, um ao lado do outro;\n",
        "print(\"B. Valores na ordem em que foram informados, um ao lado do outro:\", notas_lidas)\n",
        "for nota in notas_lidas:\n",
        "    print(nota, end=\" \")\n",
        "    \n",
        "# Exiba todos os valores na ordem inversa à que foram informados, um abaixo do outro;\n",
        "print(\"\\nC. Valores na ordem inversa à que foram informados, um abaixo do outro:\")\n",
        "for indice in range(len(notas_lidas)-1, -1, -1):\n",
        "    print(notas_lidas[indice])\n",
        "    \n",
        "# Calcule e mostre a soma dos valores\n",
        "print(\"D. Soma dos valores\")\n",
        "print(\"\\tUsandao a função Sum:\", sum(notas_lidas))\n",
        "print(\"\\tUsando for e somando 1 a 1: \", end=\"\")\n",
        "soma = 0\n",
        "for nota in notas_lidas:\n",
        "    soma += nota\n",
        "print(soma)\n",
        "\n",
        "# Calcule e mostre a média dos valores\n",
        "media = soma/len(notas_lidas)\n",
        "print(\"E. A média das notas:\", media)\n",
        "\n",
        "# Calcule e mostre a quantidade de valores acima da média calculada;\n",
        "print(\"F. Quantidade de valores acima da média: \", end=\"\")\n",
        "acima_media = 0\n",
        "for nota in notas_lidas:\n",
        "    if nota > media:\n",
        "        acima_media += 1\n",
        "print(acima_media)\n",
        "\n",
        "# Calcule e mostre a quantidade de valores abaixo de sete;\n",
        "print(\"G. Quantidade de valores abaixo de sete: \", end=\"\")\n",
        "abaixo_7 = 0\n",
        "for nota in notas_lidas:\n",
        "    if nota < 7:\n",
        "        abaixo_7 += 1\n",
        "print(abaixo_7)\n",
        "\n",
        "# Encerre o programa com uma mensagem;\n",
        "print(\"Programa encerrado.\")"
      ],
      "metadata": {
        "id": "KOT3p9cWtaYJ"
      },
      "execution_count": null,
      "outputs": []
    },
    {
      "cell_type": "markdown",
      "source": [
        "16.\tUtilize uma lista para resolver o problema a seguir. Uma empresa paga seus vendedores com base em comissões. O vendedor recebe $200 por semana mais 9 por cento de suas vendas brutas daquela semana. Por exemplo, um vendedor que teve vendas brutas de $3000 em uma semana recebe $200 mais 9 por cento de $3000, ou seja, um total de $470. Escreva um programa (usando um array de contadores) que determine quantos vendedores receberam salários nos seguintes intervalos de valores:$200 - $299$300 - $399$400 - $499$500 - $599$600 - $699$700 - $799$800 - $899$900 - $999$1000 em dianteDesafio: Crie ma fórmula para chegar na posição da lista a partir do salário, sem fazer vários ifs aninhados."
      ],
      "metadata": {
        "id": "MxRO13DatfTR"
      }
    },
    {
      "cell_type": "code",
      "source": [
        "l=[0,0,0,0,0,0,0,0,0]\n",
        "x=0\n",
        "while True:\n",
        "    n=float(input('Inf seu salario %d° R$: '%(x+1)))\n",
        "    if 200 < n <299:\n",
        "        l[0]+=1\n",
        "    elif 300 < n > 399:\n",
        "        l[1]+=1\n",
        "    elif 400 < n > 499:\n",
        "        l[2]+=1\n",
        "    elif 500 < n > 599:\n",
        "        l[3]+=1\n",
        "    elif 600 < n > 699:\n",
        "        l[4]+=1\n",
        "    elif 700 < n > 799:\n",
        "        l[5]+=1\n",
        "    elif 800 < n > 899:\n",
        "        l[6]+=1\n",
        "    elif 900 < n > 999:\n",
        "        l[7]+=1\n",
        "    elif n >= 1000:\n",
        "        l[8]=[8]+1\n",
        "    x+=1\n",
        "    d = input('deseja continuar?(s ou n)')\n",
        "    if d == 'n':\n",
        "        break\n",
        "print(l[0])"
      ],
      "metadata": {
        "id": "ePt42c8stiO5"
      },
      "execution_count": null,
      "outputs": []
    },
    {
      "cell_type": "markdown",
      "source": [
        "17.\tEm uma competição de salto em distância cada atleta tem direito a cinco saltos. O resultado do atleta será determinado pela média dos cinco valores restantes. Você deve fazer um programa que receba o nome e as cinco distâncias alcançadas pelo atleta em seus saltos e depois informe o nome, os saltos e a média dos saltos. O programa deve ser encerrado quando não for informado o nome do atleta. A saída do programa deve ser conforme o exemplo abaixo:Atleta: Rodrigo CurvêlloPrimeiro Salto: 6.5 mSegundo Salto: 6.1 mTerceiro Salto: 6.2 mQuarto Salto: 5.4 mQuinto Salto: 5.3 mResultado final:Atleta: Rodrigo CurvêlloSaltos: 6.5 - 6.1 - 6.2 - 5.4 - 5.3Média dos saltos: 5.9 m"
      ],
      "metadata": {
        "id": "WNY1jHNRtm7B"
      }
    },
    {
      "cell_type": "code",
      "source": [
        "atletas = []\n",
        "while True:\n",
        "    nome = input(\n",
        "        \"Digite o nome do atleta (ou enter para encerrar o programa): \"\n",
        "    )\n",
        "    if nome == \"\":\n",
        "        break\n",
        "    atleta = {\n",
        "        \"nome\": nome,\n",
        "        \"saltos\": [],\n",
        "        \"media\": 0,\n",
        "        \"melhor_salto\": 0,\n",
        "        \"pior_salto\": 0,\n",
        "    }\n",
        "    for i in range(5):\n",
        "        atleta.get(\"saltos\").append(\n",
        "            float(input(f\"Distância do {i+1}º salto: \"))\n",
        "        )\n",
        "    atleta.get(\"saltos\").sort()  # ? Ordena a lista\n",
        "    atleta[\"pior_salto\"] = atleta.get(\"saltos\").pop(0)\n",
        "    atleta[\"melhor_salto\"] = atleta.get(\"saltos\").pop()\n",
        "    atleta[\"media\"] = sum(atleta.get(\"saltos\")) / 3\n",
        "    print(\n",
        "        f\"\\nMelhor salto: {atleta.get('melhor_salto'):.1f} m\"\n",
        "        f\"\\nPior salto: {atleta.get('pior_salto'):.1f} m\"\n",
        "        f\"\\nMédia dos demais saltos: {atleta.get('media'):.1f} m\\n\"\n",
        "    )\n",
        "    atletas.append(atleta)\n",
        "\n",
        "print(\"\\n\\nResultado final\")\n",
        "for atleta in atletas:\n",
        "    print(f\"{atleta.get('nome')}: {atleta.get('media'):.1f} m\")"
      ],
      "metadata": {
        "id": "Kfoh0MgXtsRg"
      },
      "execution_count": null,
      "outputs": []
    },
    {
      "cell_type": "markdown",
      "source": [
        "18.\tUma grande emissora de televisão quer fazer uma enquete entre os seus telespectadores para saber qual o melhor jogador após cada jogo. Para isto, faz-se necessário o desenvolvimento de um programa, que será utilizado pelas telefonistas, para a computação dos votos. Sua equipe foi contratada para desenvolver este programa, utilizando a linguagem de programação C++. Para computar cada voto, a telefonista digitará um número, entre 1 e 23, correspondente ao número da camisa do jogador. Um número de jogador igual zero, indica que a votação foi encerrada. Se um número inválido for digitado, o programa deve ignorá-lo, mostrando uma breve mensagem de aviso, e voltando a pedir outro número. Após o final da votação, o programa deverá exibir:O total de votos computados;Os númeos e respectivos votos de todos os jogadores que receberam votos;O percentual de votos de cada um destes jogadores;O número do jogador escolhido como o melhor jogador da partida, juntamente com o número de votos e o percentual de votos dados a ele.Observe que os votos inválidos e o zero final não devem ser computados como votos. O resultado aparece ordenado pelo número do jogador. O programa deve fazer uso de arrays. O programa deverá executar o cálculo do percentual de cada jogador através de uma função. Esta função receberá dois parâmetros: o número de votos de um jogador e o total de votos. A função calculará o percentual e retornará o valor calculado. Abaixo segue uma tela de exemplo. O disposição das informações deve ser o mais próxima possível ao exemplo. Os dados são fictícios e podem mudar a cada execução do programa. Ao final, o programa deve ainda gravar os dados referentes ao resultado da votação em um arquivo texto no disco, obedecendo a mesma disposição apresentada na tela.Enquete: Quem foi o melhor jogador?Número do jogador (0=fim): 9Número do jogador (0=fim): 10Número do jogador (0=fim): 9Número do jogador (0=fim): 10Número do jogador (0=fim): 11Número do jogador (0=fim): 10Número do jogador (0=fim): 50Informe um valor entre 1 e 23 ou 0 para sair!Número do jogador (0=fim): 9Número do jogador (0=fim): 9Número do jogador (0=fim): 0Resultado da votação:Foram computados 8 votos.Jogador Votos           %9               4               50,0%10              3               37,5%11              1               12,5%O melhor jogador foi o número 9, com 4 votos, correspondendo a 50% do total de votos."
      ],
      "metadata": {
        "id": "FhnJqQiktxMZ"
      }
    },
    {
      "cell_type": "code",
      "source": [
        "votos = []\n",
        "votos_jogadores_votados = []\n",
        "numeros_jogadores_votados = []\n",
        "voto = True\n",
        "n_voto = 1\n",
        "while voto != 0:\n",
        "    print('Voto n°', n_voto)\n",
        "    voto = int(input('Digite o número do jogador: '))\n",
        "    if voto == 0:\n",
        "        break\n",
        "    else:\n",
        "        while voto > 23 or voto < 1:\n",
        "            print('[Voto inválido.]')\n",
        "            print('Voto n°', n_voto)\n",
        "            voto = int(input('Digite novamente: '))\n",
        "        votos.append(voto)\n",
        "    n_voto += 1\n",
        "print('\\nTotal de votos: ', len(votos))\n",
        "contador = 1\n",
        "for i in range(23):\n",
        "    if contador not in votos:\n",
        "        contador += 1\n",
        "        continue\n",
        "    else:\n",
        "        votos_jogadores_votados.append(votos.count(contador))\n",
        "        numeros_jogadores_votados.append(contador)\n",
        "        print('\\nVotos para o jogador camisa n°', contador, ' = ', votos.count(contador))\n",
        "        print('Percentual de votos: ', round(100 * votos.count(contador) / len(votos), 2), '%')\n",
        "        contador += 1\n",
        "melhor = votos_jogadores_votados.index(max(votos_jogadores_votados))\n",
        "print('\\nO jogador mais votado foi o n°', numeros_jogadores_votados[melhor], 'com ', votos_jogadores_votados[melhor], 'votos')\n",
        "print('Ganhou com', round(100 * votos_jogadores_votados[melhor] / len(votos), 2), '% dos votos')"
      ],
      "metadata": {
        "id": "KsR8_FCmt3CZ"
      },
      "execution_count": null,
      "outputs": []
    },
    {
      "cell_type": "markdown",
      "source": [
        "19.\tUma empresa de pesquisas precisa tabular os resultados da seguinte enquete feita a um grande quantidade de organizações:\"Qual o melhor Sistema Operacional para uso em servidores?\"As possíveis respostas são:1- Windows Server2- Unix3- Linux4- Netware5- Mac OS6- OutroVocê foi contratado para desenvolver um programa que leia o resultado da enquete e informe ao final o resultado da mesma. O programa deverá ler os valores até ser informado o valor 0, que encerra a entrada dos dados. Não deverão ser aceitos valores além dos válidos para o programa (0 a 6). Os valores referentes a cada uma das opções devem ser armazenados num vetor. Após os dados terem sido completamente informados, o programa deverá calcular a percentual de cada um dos concorrentes e informar o vencedor da enquete. O formato da saída foi dado pela empresa, e é o seguinte:Sistema Operacional     Votos   %-------------------     -----   ---Windows Server           1500   17%Unix                     3500   40%Linux                    3000   34%Netware                   500    5%Mac OS                    150    2%Outro                     150    2%-------------------     -----Total                    8800O Sistema Operacional mais votado foi o Unix, com 3500 votos, correspondendo a 40% dos votos.\n"
      ],
      "metadata": {
        "id": "_3RkTyrSynf_"
      }
    },
    {
      "cell_type": "code",
      "source": [
        "urna = []\n",
        "sistemas = ['Windows Server','Unix','Linux','Netware','Mac OS','Outro']\n",
        "indice_vitoria = []\n",
        "indice_porcentagem_vitoria = []\n",
        "eleitor = True\n",
        "num_voto = 1\n",
        "\n",
        "while eleitor != 0:\n",
        "    print(f'\\nEleitor nº {num_voto}\\n')\n",
        "    voto = int(input('Digite o seu voto [1 a 6] ou Digite [0] para sair: '))\n",
        "    if voto == 0:\n",
        "        break\n",
        "    else:\n",
        "        while voto < 0 or voto > 6:\n",
        "            print('[Numero Inválido]')\n",
        "            voto = int(input('Digite o seu voto [1 a 6] ou Digite [0] para sair: '))\n",
        "        print('[Voto Confirmado]\\n')\n",
        "        urna.append(voto)\n",
        "    num_voto += 1\n",
        "\n",
        "print('\\n' * 2)\n",
        "print('{:<19}{:>10}{:>4}'.format('Sistema Operacional','Votos','%'))\n",
        "print('{:<19}{:>10}{:>6}'.format('-'*19,'-'*5,'-'*3))\n",
        "\n",
        "contador = 0\n",
        "for i in range(len(sistemas)):\n",
        "    porcentagem_voto = round((urna.count(contador+1) / len(urna)) * 100)\n",
        "    print('{:<19}{:>10}{:>5}%'.format(sistemas[contador],urna.count(contador+1),porcentagem_voto))\n",
        "    contador +=1\n",
        "    indice_vitoria.append(urna.count(contador+1))\n",
        "    indice_porcentagem_vitoria.append(porcentagem_voto)\n",
        "\n",
        "print('{:<19}{:>10}'.format('-'*19,'-'*5,))\n",
        "print('{:<19}{:>10}'.format('Total',len(urna)))\n",
        "\n",
        "vitoria = max(indice_vitoria)\n",
        "for i in range(len(sistemas)):\n",
        "    if indice_vitoria[i] == vitoria:\n",
        "        print('\\nO sistema mais votado foi o ', sistemas[i], end=' ')\n",
        "\n",
        "print('com ', max(indice_vitoria), ' votos, correspondendo a ', max(indice_porcentagem_vitoria), '% dos votos.')"
      ],
      "metadata": {
        "id": "DJr35M3FytCC"
      },
      "execution_count": null,
      "outputs": []
    },
    {
      "cell_type": "markdown",
      "source": [
        "20.\tAs Organizações Tabajara resolveram dar um abono aos seus colaboradores em reconhecimento ao bom resultado alcançado durante o ano que passou. Para isto contratou você para desenvolver a aplicação que servirá como uma projeção de quanto será gasto com o pagamento deste abono.Após reuniões envolvendo a diretoria executiva, a diretoria financeira e os representantes do sindicato laboral, chegou-se a seguinte forma de cálculo:a.Cada funcionário receberá o equivalente a 20% do seu salário bruto de dezembro; a.O piso do abono será de 100 reais, isto é, aqueles funcionários cujo salário for muito baixo, recebem este valor mínimo; Neste momento, não se deve ter nenhuma preocupação com colaboradores com tempo menor de casa, descontos, impostos ou outras particularidades. Seu programa deverá permitir a digitação do salário de um número indefinido (desconhecido) de salários. Um valor de salário igual a 0 (zero) encerra a digitação. Após a entrada de todos os dados o programa deverá calcular o valor do abono concedido a cada colaborador, de acordo com a regra definida acima. Ao final, o programa deverá apresentar:O salário de cada funcionário, juntamente com o valor do abono;O número total de funcionário processados;O valor total a ser gasto com o pagamento do abono;O número de funcionário que receberá o valor mínimo de 100 reais;O maior valor pago como abono; A tela abaixo é um exemplo de execução do programa, apenas para fins ilustrativos. Os valores podem mudar a cada execução do programa.Projeção de Gastos com Abono============================Salário: 1000Salário: 300Salário: 500Salário: 100Salário: 4500Salário: 0Salário    - Abono    R$ 1000.00 - R$  200.00R$  300.00 - R$  100.00R$  500.00 - R$  100.00R$  100.00 - R$  100.00R$ 4500.00 - R$  900.00Foram processados 5 colaboradoresTotal gasto com abonos: R$ 1400.00Valor mínimo pago a 3 colaboradoresMaior valor de abono pago: R$ 900.00"
      ],
      "metadata": {
        "id": "C1IqXWysy0Oy"
      }
    },
    {
      "cell_type": "code",
      "source": [
        "funcionario = True\n",
        "salario = []\n",
        "abono = []\n",
        "\n",
        "print('Projeção de Gastos com Abono')\n",
        "print('=' * 28, '\\n')\n",
        "\n",
        "while funcionario != 0:\n",
        "    valor = float(input('Salario: '))\n",
        "    if valor == 0:\n",
        "        break\n",
        "    salario.append(valor)\n",
        "\n",
        "print('\\nSalário    - Abono')\n",
        "\n",
        "for i in range(len(salario)):\n",
        "    percentual = salario[i] * 0.20\n",
        "    if percentual <= 100:\n",
        "        percentual = 100\n",
        "    print('R${:>8.2f} - R${:>8.2f}'.format(salario[i],percentual))\n",
        "    abono.append(percentual)\n",
        "\n",
        "val_min = abono.count(100)\n",
        "\n",
        "print(f'''\n",
        "Foram processados {len(salario)} colaboradores\n",
        "Total gasto com abonos: R$ {sum(abono):.2f}\n",
        "Valor mínimo pago a {val_min} colaboradores\n",
        "Maior valor de abono pago: R$ {max(abono):.2f}\n",
        "''')"
      ],
      "metadata": {
        "id": "6jQnYsvmy6N5"
      },
      "execution_count": null,
      "outputs": []
    },
    {
      "cell_type": "markdown",
      "source": [
        "21.\tFaça um programa que carregue uma lista com os modelos de cinco carros (exemplo de modelos: FUSCA, GOL, VECTRA etc). Carregue uma outra lista com o consumo desses carros, isto é, quantos quilômetros cada um desses carros faz com um litro de combustível. Calcule e mostre:O modelo do carro mais econômico;Quantos litros de combustível cada um dos carros cadastrados consome para percorrer uma distância de 1000 quilômetros e quanto isto custará, considerando um que a gasolina custe R$ 2,25 o litro. Abaixo segue uma tela de exemplo. O disposição das informações deve ser o mais próxima possível ao exemplo. Os dados são fictícios e podem mudar a cada execução do programa.Comparativo de Consumo de CombustívelVeículo 1Nome: fuscaKm por litro: 7Veículo 2Nome: golKm por litro: 10Veículo 3Nome: unoKm por litro: 12.5Veículo 4Nome: VectraKm por litro: 9Veículo 5Nome: PeugeoutKm por litro: 14.5Relatório Final 1 - fusca           -    7.0 -  142.9 litros - R$ 321.43 2 - gol             -   10.0 -  100.0 litros - R$ 225.00 3 - uno             -   12.5 -   80.0 litros - R$ 180.00 4 - vectra          -    9.0 -  111.1 litros - R$ 250.00 5 - peugeout        -   14.5 -   69.0 litros - R$ 155.17O menor consumo é do peugeout.\n"
      ],
      "metadata": {
        "id": "Xc5Y1aXCzCZz"
      }
    },
    {
      "cell_type": "code",
      "source": [
        "veiculos = ['Fusca', 'Palio', 'UNO', 'Ferrari', 'HB20']\n",
        "consumo_carros = []\n",
        "\n",
        "print('\\nComparativo de Consumo de Combustível\\n')\n",
        "\n",
        "for i in range(5):\n",
        "    print('veículo',i + 1,'\\nNome: ',veiculos[i])\n",
        "    km_litro = float(input('Km por litro: '))\n",
        "    consumo_carros.append(km_litro)\n",
        "\n",
        "print('\\nRelatório Final')\n",
        "\n",
        "for i in range(5):\n",
        "    print(f'{i+1} - {veiculos[i]:<15} - {consumo_carros[i]:>6.1f} - {round(1000 / consumo_carros[i]):>5.1f} litros - R$ {round(1000 / consumo_carros[i]) * 2.25:.2f}')\n",
        "\n",
        "indice_menor_consumo = consumo_carros.index(max(consumo_carros))\n",
        "print('O menor consumo é o do ', veiculos[indice_menor_consumo])"
      ],
      "metadata": {
        "id": "fzB_lewazGHE"
      },
      "execution_count": null,
      "outputs": []
    },
    {
      "cell_type": "markdown",
      "source": [
        "22.\tSua organização acaba de contratar um estagiário para trabalhar no Suporte de Informática, com a intenção de fazer um levantamento nas sucatas encontradas nesta área. A primeira tarefa dele é testar todos os cerca de 200 mouses que se encontram lá, testando e anotando o estado de cada um deles, para verificar o que se pode aproveitar deles.Foi requisitado que você desenvolva um programa para registrar este levantamento. O programa deverá receber um número indeterminado de entradas, cada uma contendo: um número de identificação do mouse o tipo de defeito:necessita da esfera;necessita de limpeza; a.necessita troca do cabo ou conector; a.quebrado ou inutilizado Uma identificação igual a zero encerra o programa. Ao final o programa deverá emitir o seguinte relatório:Quantidade de mouses: 100Situação                        Quantidade              Percentual1- necessita da esfera                  40                     40%2- necessita de limpeza                 30                     30%3- necessita troca do cabo ou conector  15                     15%4- quebrado ou inutilizado              15                     15%\n"
      ],
      "metadata": {
        "id": "O_yOeTHqzQJZ"
      }
    },
    {
      "cell_type": "code",
      "source": [
        "defeitos = ['necessita da esfera',\n",
        "            'necessita de limpeza',\n",
        "            'necessita troca do cabo ou conector',\n",
        "            'quebrado ou inutilizado'\n",
        "            ]\n",
        "numeros_identificacao = []\n",
        "numeros_defeitos = []\n",
        "numero_identificacao = True\n",
        "n_mouse = 1\n",
        "while numero_identificacao != 0:\n",
        "    print('\\nMouse n°', n_mouse)\n",
        "    numero_identificacao = int(input('Digite o número de identificação do mouse: '))\n",
        "    if numero_identificacao == 0:\n",
        "        break\n",
        "    else:\n",
        "        while numero_identificacao in numeros_identificacao:\n",
        "            print('[Número repetido]')\n",
        "            print('\\nMouse n°', n_mouse)\n",
        "            numero_identificacao = int(input('Digite o número de identificação do mouse: '))\n",
        "        numero_defeito = int(input('Digite o número correspondente ao defeito: '))\n",
        "        while numero_defeito > 4 or numero_defeito < 1:\n",
        "            print('[Número invalido]')\n",
        "            numero_defeito = int(input('Digite o número correspondente ao defeito: '))\n",
        "        numeros_identificacao.append(numero_identificacao)\n",
        "        numeros_defeitos.append(numero_defeito)\n",
        "    n_mouse += 1\n",
        "print('\\nQuantidade de mouses: ', len(numeros_identificacao))\n",
        "for i in range(len(defeitos)):\n",
        "    print('Situação: ', defeitos[i], '/ Quantidade: ', numeros_defeitos.count(i + 1), '/ Porcentagem: ', round(100 * numeros_defeitos.count(i + 1) / len(numeros_identificacao), 2), '%')"
      ],
      "metadata": {
        "id": "GbTnkfldzSxY"
      },
      "execution_count": null,
      "outputs": []
    },
    {
      "cell_type": "markdown",
      "source": [
        "23.\tA ACME Inc., uma empresa de 500 funcionários, está tendo problemas de espaço em disco no seu servidor de arquivos. Para tentar resolver este problema, o Administrador de Rede precisa saber qual o espaço ocupado pelos usuários, e identificar os usuários com maior espaço ocupado. Através de um programa, baixado da Internet, ele conseguiu gerar o seguinte arquivo, chamado \"usuarios.txt\":alexandre       456123789anderson        1245698456antonio         123456456carlos          91257581cesar           987458rosemary        789456125Neste arquivo, o nome do usuário possui 15 caracteres. A partir deste arquivo, você deve criar um programa que gere um relatório, chamado \"relatório.txt\", no seguinte formato:ACME Inc.               Uso do espaço em disco pelos usuários------------------------------------------------------------------------Nr.  Usuário        Espaço utilizado     % do uso1    alexandre       434,99 MB             16,85%2    anderson       1187,99 MB             46,02%3    antonio         117,73 MB              4,56%4    carlos           87,03 MB              3,37%5    cesar             0,94 MB              0,04%6    rosemary        752,88 MB             29,16%Espaço total ocupado: 2581,57 MBEspaço médio ocupado: 430,26 MBO arquivo de entrada deve ser lido uma única vez, e os dados armazenados em memória, caso sejam necessários, de forma a agilizar a execução do programa. A conversão da espaço ocupado em disco, de bytes para megabytes deverá ser feita através de uma função separada, que será chamada pelo programa principal. O cálculo do percentual de uso também deverá ser feito através de uma função, que será chamada pelo programa principal."
      ],
      "metadata": {
        "id": "8g4M8bJdzbJr"
      }
    },
    {
      "cell_type": "code",
      "source": [
        "usuarios = []\n",
        "uso_dados =[]\n",
        "uso_dados_MB = []\n",
        "percentual_MB = []\n",
        "\n",
        "with open(\"c:/Users/Suporte/Desktop/Python study/usuarios.txt\", 'r') as arquivo: #abrindo o arquivo txt do exercicio é necessario criar o arquivo\n",
        "    for i in range(6):\n",
        "        nome = arquivo.readline(15)\n",
        "        nome = nome.replace(' ','') #remove os espaços em branco\n",
        "        dados = arquivo.readline(18)\n",
        "        dados = dados.replace(' ','') #remove os espaços em branco\n",
        "        dados = int(dados.replace('\\n','')) #remove os '\\n' e transforma em inteiro\n",
        "        usuarios.append(nome)\n",
        "        uso_dados.append(dados)\n",
        "\n",
        "def conversor_bytes(uso_dados):\n",
        "    for i in range(len(uso_dados)):\n",
        "        kilobyte = round(uso_dados[i] / 1024, 2)\n",
        "        megabyte = round(kilobyte / 1024, 2)\n",
        "        uso_dados_MB.append(megabyte)\n",
        "            \n",
        "def calc_percent(uso_dados_MB):\n",
        "    for i in range(len(uso_dados_MB)):\n",
        "        percentual = round(((100 * uso_dados_MB[i]) / sum(uso_dados_MB)), 2)\n",
        "        percentual_MB.append(percentual)\n",
        "\n",
        "def impressao(percentual_MB,usuarios):\n",
        "    with open(\"c:/Users/Suporte/Desktop/Python study/relatório.txt\", 'w') as arquivo: #criando o arquivo relatorio txt\n",
        "        arquivo.write('ACME Inc.               Uso do espaço em disco pelos usuários\\n')\n",
        "        arquivo.write('-' * 72)\n",
        "        arquivo.write('\\n')\n",
        "        arquivo.write('Nr.  Usuário        Espaço utilizado     % do uso\\n')\n",
        "        arquivo.write('\\n')\n",
        "        for i in range(len(usuarios)):\n",
        "            arquivo.write(f'{i+1:<4} {usuarios[i]:<10} {uso_dados_MB[i]:>11} MB {percentual_MB[i]:>17}%\\n')\n",
        "        total = sum(uso_dados_MB)\n",
        "        media = round(total / len(uso_dados_MB), 2)\n",
        "        arquivo.write('\\n')    \n",
        "        arquivo.write(f'Espaço total ocupado: {total} MB\\nEspaço médio ocupado: {media} MB')\n",
        "\n",
        "conversor_bytes(uso_dados)\n",
        "calc_percent(uso_dados_MB)\n",
        "impressao(percentual_MB,usuarios)"
      ],
      "metadata": {
        "id": "4oVC-WiHzeDh"
      },
      "execution_count": null,
      "outputs": []
    },
    {
      "cell_type": "markdown",
      "source": [
        "24.\tFaça um programa que simule um lançamento de dados. Lance o dado 100 vezes e armazene os resultados em um vetor . Depois, mostre quantas vezes cada valor foi conseguido. Dica: use um vetor de contadores(1-6) e uma função para gerar numeros aleatórios, simulando os lançamentos dos dados.\n",
        "\n"
      ],
      "metadata": {
        "id": "1ccOFHhbzljP"
      }
    },
    {
      "cell_type": "code",
      "source": [
        "import random\n",
        "lancamentos = []\n",
        "for i in range(100):\n",
        "    lancamentos.append(random.randrange(1, 6 + 1))\n",
        "for i in range(6):\n",
        "    print('O número', i + 1, 'foi gerado ', lancamentos.count(i + 1), 'vezes')"
      ],
      "metadata": {
        "id": "vPkw7xxozoyw"
      },
      "execution_count": null,
      "outputs": []
    },
    {
      "cell_type": "markdown",
      "source": [],
      "metadata": {
        "id": "Yu2uZpfFrV_m"
      }
    }
  ]
}